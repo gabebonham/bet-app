{
 "cells": [
  {
   "cell_type": "code",
   "execution_count": 2,
   "id": "9f4a00ec-8ac0-4802-8652-af65fb8677dd",
   "metadata": {},
   "outputs": [
    {
     "name": "stdout",
     "output_type": "stream",
     "text": [
      "Requirement already satisfied: pandas in c:\\users\\v4lus\\documents\\projs\\python\\eliseu\\grisamanus_sistema_completo_v2\\venv2\\lib\\site-packages (2.2.3)\n",
      "Requirement already satisfied: numpy>=1.26.0 in c:\\users\\v4lus\\documents\\projs\\python\\eliseu\\grisamanus_sistema_completo_v2\\venv2\\lib\\site-packages (from pandas) (2.2.5)\n",
      "Requirement already satisfied: python-dateutil>=2.8.2 in c:\\users\\v4lus\\documents\\projs\\python\\eliseu\\grisamanus_sistema_completo_v2\\venv2\\lib\\site-packages (from pandas) (2.9.0.post0)\n",
      "Requirement already satisfied: pytz>=2020.1 in c:\\users\\v4lus\\documents\\projs\\python\\eliseu\\grisamanus_sistema_completo_v2\\venv2\\lib\\site-packages (from pandas) (2025.2)\n",
      "Requirement already satisfied: tzdata>=2022.7 in c:\\users\\v4lus\\documents\\projs\\python\\eliseu\\grisamanus_sistema_completo_v2\\venv2\\lib\\site-packages (from pandas) (2025.2)\n",
      "Requirement already satisfied: six>=1.5 in c:\\users\\v4lus\\documents\\projs\\python\\eliseu\\grisamanus_sistema_completo_v2\\venv2\\lib\\site-packages (from python-dateutil>=2.8.2->pandas) (1.17.0)\n"
     ]
    },
    {
     "name": "stderr",
     "output_type": "stream",
     "text": [
      "\n",
      "[notice] A new release of pip is available: 25.0.1 -> 25.1.1\n",
      "[notice] To update, run: python.exe -m pip install --upgrade pip\n"
     ]
    },
    {
     "name": "stdout",
     "output_type": "stream",
     "text": [
      "Requirement already satisfied: scikit-learn in c:\\users\\v4lus\\documents\\projs\\python\\eliseu\\grisamanus_sistema_completo_v2\\venv2\\lib\\site-packages (1.6.1)\n",
      "Requirement already satisfied: numpy>=1.19.5 in c:\\users\\v4lus\\documents\\projs\\python\\eliseu\\grisamanus_sistema_completo_v2\\venv2\\lib\\site-packages (from scikit-learn) (2.2.5)\n",
      "Requirement already satisfied: scipy>=1.6.0 in c:\\users\\v4lus\\documents\\projs\\python\\eliseu\\grisamanus_sistema_completo_v2\\venv2\\lib\\site-packages (from scikit-learn) (1.15.3)\n",
      "Requirement already satisfied: joblib>=1.2.0 in c:\\users\\v4lus\\documents\\projs\\python\\eliseu\\grisamanus_sistema_completo_v2\\venv2\\lib\\site-packages (from scikit-learn) (1.5.0)\n",
      "Requirement already satisfied: threadpoolctl>=3.1.0 in c:\\users\\v4lus\\documents\\projs\\python\\eliseu\\grisamanus_sistema_completo_v2\\venv2\\lib\\site-packages (from scikit-learn) (3.6.0)\n"
     ]
    },
    {
     "name": "stderr",
     "output_type": "stream",
     "text": [
      "\n",
      "[notice] A new release of pip is available: 25.0.1 -> 25.1.1\n",
      "[notice] To update, run: python.exe -m pip install --upgrade pip\n"
     ]
    }
   ],
   "source": [
    "! pip install pandas\n",
    "! pip install scikit-learn\n"
   ]
  },
  {
   "cell_type": "code",
   "execution_count": 3,
   "id": "d4bfec84-33d7-4dde-b88a-1e8ccc6f212f",
   "metadata": {},
   "outputs": [
    {
     "ename": "ModuleNotFoundError",
     "evalue": "No module named 'pandas'",
     "output_type": "error",
     "traceback": [
      "\u001b[31m---------------------------------------------------------------------------\u001b[39m",
      "\u001b[31mModuleNotFoundError\u001b[39m                       Traceback (most recent call last)",
      "\u001b[36mCell\u001b[39m\u001b[36m \u001b[39m\u001b[32mIn[3]\u001b[39m\u001b[32m, line 1\u001b[39m\n\u001b[32m----> \u001b[39m\u001b[32m1\u001b[39m \u001b[38;5;28;01mimport\u001b[39;00m\u001b[38;5;250m \u001b[39m\u001b[34;01mpandas\u001b[39;00m\u001b[38;5;250m \u001b[39m\u001b[38;5;28;01mas\u001b[39;00m\u001b[38;5;250m \u001b[39m\u001b[34;01mpd\u001b[39;00m\n\u001b[32m      2\u001b[39m \u001b[38;5;28;01mimport\u001b[39;00m\u001b[38;5;250m \u001b[39m\u001b[34;01mnumpy\u001b[39;00m\u001b[38;5;250m \u001b[39m\u001b[38;5;28;01mas\u001b[39;00m\u001b[38;5;250m \u001b[39m\u001b[34;01mnp\u001b[39;00m\n\u001b[32m      3\u001b[39m \u001b[38;5;28;01mfrom\u001b[39;00m\u001b[38;5;250m \u001b[39m\u001b[34;01msklearn\u001b[39;00m\u001b[34;01m.\u001b[39;00m\u001b[34;01mmodel_selection\u001b[39;00m\u001b[38;5;250m \u001b[39m\u001b[38;5;28;01mimport\u001b[39;00m TimeSeriesSplit, GridSearchCV\n",
      "\u001b[31mModuleNotFoundError\u001b[39m: No module named 'pandas'"
     ]
    }
   ],
   "source": [
    "import pandas as pd\n",
    "import numpy as np\n",
    "from sklearn.model_selection import TimeSeriesSplit, GridSearchCV\n",
    "from sklearn.tree import DecisionTreeRegressor\n",
    "from sklearn.multioutput import MultiOutputRegressor\n",
    "from sklearn.ensemble import RandomForestClassifier, GradientBoostingRegressor\n",
    "from sklearn.metrics import classification_report, roc_auc_score, mean_squared_error\n",
    "import joblib\n",
    "from sklearn.base import clone\n",
    "import sys\n",
    "import os\n",
    "import pickle\n",
    "from datetime import datetime\n",
    "from sklearn.model_selection import train_test_split\n",
    "from sklearn.preprocessing import LabelEncoder\n",
    "try:\n",
    "    model = MultiOutputRegressor(GradientBoostingRegressor())\n",
    "    df = pd.read_csv(\"app/generated/historico_17-05-2025_16-10-53.csv\")\n",
    "    df['Data'] = pd.to_datetime(df['Data'], errors='coerce')\n",
    "    df['Data das odds'] = pd.to_datetime(df['Data das odds'], format='%d-%m-%Y %H:%M', errors='coerce')\n",
    "\n",
    "    le_home = LabelEncoder()\n",
    "    le_away = LabelEncoder()\n",
    "    le_league = LabelEncoder()\n",
    "    le_placar_1= LabelEncoder()\n",
    "    le_placar_2 = LabelEncoder()\n",
    "    df['Data_ano'] = df['Data'].dt.year\n",
    "    df['Data_dia'] = df['Data'].dt.day\n",
    "    df['Data_mes'] = df['Data'].dt.month\n",
    "    df['Data das odds_ano'] = df['Data das odds'].dt.year\n",
    "    df['Data das odds_dia'] = df['Data das odds'].dt.day\n",
    "    df['Data das odds_mes'] = df['Data das odds'].dt.month\n",
    "    df['Data das odds_hr'] = df['Data das odds'].dt.hour\n",
    "    df['Data das odds_min'] = df['Data das odds'].dt.minute\n",
    "    \n",
    "    df[['Placar Exato_time_1', 'Placar Exato_time_2']] = df['Placar Exato'].str.split('-', expand=True)\n",
    "    \n",
    "    df['Campeonato'] = le_league.fit_transform(df['Campeonato'])\n",
    "    df['Time da casa'] = le_home.fit_transform(df['Time da casa'])\n",
    "    df['Time contra'] = le_away.fit_transform(df['Time contra'])\n",
    "    # Define columns\n",
    "    pred_cols = ['Id da partida','Gols time casa','Gols time contra','Gols totais',\n",
    "                'Odd Casa Vence','Odd Empate','Odd Visitante Vence','PRED_0','PRED_1',\n",
    "                'PRED_2','PRED_3','PRED_4','PROBABILIDADE','CONFIDENCE_LEVEL',\n",
    "                'RECOMMENDED_STAKE','Id da partida','Campeonato','Data','Tempo',\n",
    "                'Time da casa','Time contra','Gols time casa','Gols time contra',\n",
    "                'Gols totais','Odd Over 2.5','Odd Under 2.5','Odd Over 3.5',\n",
    "                'Odd Under 3.5','Odd Casa Vence','Odd Empate','Odd Visitante Vence',\n",
    "                'Placar Exato','Odd Placar Exato','Data das odds','HORA','COLUNA',\n",
    "                'PROBABILIDADE','OUTCOME']\n",
    "    \n",
    "   \n",
    "    target_columns = ['OUTCOME','Odd Over 2.5','Odd Under 2.5','Odd Over 3.5','Odd Under 3.5']\n",
    "    columns_to_drop = [\n",
    "        'Data das odds', 'HORA', 'COLUNA', 'Campeonato', 'Data', 'Tempo',\n",
    "        'Time da casa', 'Time contra', 'Placar Exato', 'Odd Placar Exato',\n",
    "        'OUTCOME', 'PROBABILIDADE','Odd Over 2.5','Odd Under 2.5','Odd Over 3.5','Odd Under 3.5'\n",
    "    ]\n",
    "    for_x = ['Time da casa','Time contra','Campeonato','Gols time casa',\n",
    "   'Gols time contra','Gols totais','Odd Placar Exato',\n",
    "   'Data das odds','Data_ano','Data_dia','Data_mes',\n",
    "    'Data das odds_ano','Data das odds_dia','Data das odds_mes',\n",
    "    'Data das odds_hr','Data das odds_min','Placar Exato_time_1',\n",
    "    'Placar Exato_time_2']\n",
    "\n",
    "\n",
    "    X = df[for_x].copy()\n",
    "    y = df[target_columns].copy()\n",
    "    print(X.columns)\n",
    "    print(y.columns)\n",
    "    \n",
    "    # Drop rows with missing values\n",
    "    combined = pd.concat([X, y], axis=1).dropna()\n",
    "    X = combined[X.columns]\n",
    "    y = combined[y.columns]\n",
    "    \n",
    "    # Train-test split\n",
    "    X_train, X_test, y_train, y_test = train_test_split(X, y, test_size=0.2, random_state=42)\n",
    "    \n",
    "    # Train the model\n",
    "    model.fit(X_train, y_train)\n",
    "    \n",
    "    \n",
    "    print(\"Model trained successfully.\")\n",
    "except Exception as e:\n",
    "    print(e)\n",
    "        \n",
    "    "
   ]
  },
  {
   "cell_type": "code",
   "execution_count": null,
   "id": "12216a01-98c3-45d1-8886-dfccb0ae447f",
   "metadata": {},
   "outputs": [],
   "source": []
  }
 ],
 "metadata": {
  "kernelspec": {
   "display_name": "Python 3 (ipykernel)",
   "language": "python",
   "name": "python3"
  },
  "language_info": {
   "codemirror_mode": {
    "name": "ipython",
    "version": 3
   },
   "file_extension": ".py",
   "mimetype": "text/x-python",
   "name": "python",
   "nbconvert_exporter": "python",
   "pygments_lexer": "ipython3",
   "version": "3.13.3"
  }
 },
 "nbformat": 4,
 "nbformat_minor": 5
}
